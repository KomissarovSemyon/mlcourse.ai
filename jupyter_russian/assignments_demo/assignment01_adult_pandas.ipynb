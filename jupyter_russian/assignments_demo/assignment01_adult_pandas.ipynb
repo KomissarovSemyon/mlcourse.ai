{
 "cells": [
  {
   "cell_type": "markdown",
   "metadata": {},
   "source": [
    "<center>\n",
    "<img src=\"../../img/ods_stickers.jpg\">\n",
    "## Открытый курс по машинному обучению\n",
    "<center>\n",
    "Автор материала: Юрий Кашницкий, программист-исследователь Mail.Ru Group <br> \n",
    "\n",
    "Материал распространяется на условиях лицензии [Creative Commons CC BY-NC-SA 4.0](https://creativecommons.org/licenses/by-nc-sa/4.0/). Можно использовать в любых целях (редактировать, поправлять и брать за основу), кроме коммерческих, но с обязательным упоминанием автора материала."
   ]
  },
  {
   "cell_type": "markdown",
   "metadata": {},
   "source": [
    "# <center>Домашнее задание № 1 (демо).<br> Анализ данных по доходу населения UCI Adult</center>"
   ]
  },
  {
   "cell_type": "markdown",
   "metadata": {},
   "source": [
    "**В задании предлагается с помощью Pandas ответить на несколько вопросов по данным репозитория UCI [Adult](https://archive.ics.uci.edu/ml/datasets/Adult) (качать данные не надо – они уже есть в репозитории). Для отправки решений используйте [онлайн-форму](https://docs.google.com/forms/d/1xAzU-5N6oEeR4UG8G44V6XL-Kbr4WYcPBG45Kijge2Y).**"
   ]
  },
  {
   "cell_type": "markdown",
   "metadata": {},
   "source": [
    "Уникальные значения признаков (больше информации по ссылке выше):\n",
    "- age: continuous.\n",
    "- workclass: Private, Self-emp-not-inc, Self-emp-inc, Federal-gov, Local-gov, State-gov, Without-pay, Never-worked.\n",
    "- fnlwgt: continuous.\n",
    "- education: Bachelors, Some-college, 11th, HS-grad, Prof-school, Assoc-acdm, Assoc-voc, 9th, 7th-8th, 12th, Masters, 1st-4th, 10th, Doctorate, 5th-6th, Preschool.\n",
    "- education-num: continuous.\n",
    "- marital-status: Married-civ-spouse, Divorced, Never-married, Separated, Widowed, Married-spouse-absent, Married-AF-spouse.\n",
    "- occupation: Tech-support, Craft-repair, Other-service, Sales, Exec-managerial, Prof-specialty, Handlers-cleaners, Machine-op-inspct, Adm-clerical, Farming-fishing, Transport-moving, Priv-house-serv, Protective-serv, Armed-Forces.\n",
    "- relationship: Wife, Own-child, Husband, Not-in-family, Other-relative, Unmarried.\n",
    "- race: White, Asian-Pac-Islander, Amer-Indian-Eskimo, Other, Black.\n",
    "- sex: Female, Male.\n",
    "- capital-gain: continuous.\n",
    "- capital-loss: continuous.\n",
    "- hours-per-week: continuous.\n",
    "- native-country: United-States, Cambodia, England, Puerto-Rico, Canada, Germany, Outlying-US(Guam-USVI-etc), India, Japan, Greece, South, China, Cuba, Iran, Honduras, Philippines, Italy, Poland, Jamaica, Vietnam, Mexico, Portugal, Ireland, France, Dominican-Republic, Laos, Ecuador, Taiwan, Haiti, Columbia, Hungary, Guatemala, Nicaragua, Scotland, Thailand, Yugoslavia, El-Salvador, Trinadad&Tobago, Peru, Hong, Holand-Netherlands.   \n",
    "- salary: >50K,<=50K"
   ]
  },
  {
   "cell_type": "code",
   "execution_count": 1,
   "metadata": {},
   "outputs": [],
   "source": [
    "import pandas as pd"
   ]
  },
  {
   "cell_type": "code",
   "execution_count": 2,
   "metadata": {},
   "outputs": [
    {
     "data": {
      "text/html": [
       "<div>\n",
       "<style scoped>\n",
       "    .dataframe tbody tr th:only-of-type {\n",
       "        vertical-align: middle;\n",
       "    }\n",
       "\n",
       "    .dataframe tbody tr th {\n",
       "        vertical-align: top;\n",
       "    }\n",
       "\n",
       "    .dataframe thead th {\n",
       "        text-align: right;\n",
       "    }\n",
       "</style>\n",
       "<table border=\"1\" class=\"dataframe\">\n",
       "  <thead>\n",
       "    <tr style=\"text-align: right;\">\n",
       "      <th></th>\n",
       "      <th>age</th>\n",
       "      <th>workclass</th>\n",
       "      <th>fnlwgt</th>\n",
       "      <th>education</th>\n",
       "      <th>education-num</th>\n",
       "      <th>marital-status</th>\n",
       "      <th>occupation</th>\n",
       "      <th>relationship</th>\n",
       "      <th>race</th>\n",
       "      <th>sex</th>\n",
       "      <th>capital-gain</th>\n",
       "      <th>capital-loss</th>\n",
       "      <th>hours-per-week</th>\n",
       "      <th>native-country</th>\n",
       "      <th>salary</th>\n",
       "    </tr>\n",
       "  </thead>\n",
       "  <tbody>\n",
       "    <tr>\n",
       "      <th>0</th>\n",
       "      <td>39</td>\n",
       "      <td>State-gov</td>\n",
       "      <td>77516</td>\n",
       "      <td>Bachelors</td>\n",
       "      <td>13</td>\n",
       "      <td>Never-married</td>\n",
       "      <td>Adm-clerical</td>\n",
       "      <td>Not-in-family</td>\n",
       "      <td>White</td>\n",
       "      <td>Male</td>\n",
       "      <td>2174</td>\n",
       "      <td>0</td>\n",
       "      <td>40</td>\n",
       "      <td>United-States</td>\n",
       "      <td>&lt;=50K</td>\n",
       "    </tr>\n",
       "    <tr>\n",
       "      <th>1</th>\n",
       "      <td>50</td>\n",
       "      <td>Self-emp-not-inc</td>\n",
       "      <td>83311</td>\n",
       "      <td>Bachelors</td>\n",
       "      <td>13</td>\n",
       "      <td>Married-civ-spouse</td>\n",
       "      <td>Exec-managerial</td>\n",
       "      <td>Husband</td>\n",
       "      <td>White</td>\n",
       "      <td>Male</td>\n",
       "      <td>0</td>\n",
       "      <td>0</td>\n",
       "      <td>13</td>\n",
       "      <td>United-States</td>\n",
       "      <td>&lt;=50K</td>\n",
       "    </tr>\n",
       "    <tr>\n",
       "      <th>2</th>\n",
       "      <td>38</td>\n",
       "      <td>Private</td>\n",
       "      <td>215646</td>\n",
       "      <td>HS-grad</td>\n",
       "      <td>9</td>\n",
       "      <td>Divorced</td>\n",
       "      <td>Handlers-cleaners</td>\n",
       "      <td>Not-in-family</td>\n",
       "      <td>White</td>\n",
       "      <td>Male</td>\n",
       "      <td>0</td>\n",
       "      <td>0</td>\n",
       "      <td>40</td>\n",
       "      <td>United-States</td>\n",
       "      <td>&lt;=50K</td>\n",
       "    </tr>\n",
       "    <tr>\n",
       "      <th>3</th>\n",
       "      <td>53</td>\n",
       "      <td>Private</td>\n",
       "      <td>234721</td>\n",
       "      <td>11th</td>\n",
       "      <td>7</td>\n",
       "      <td>Married-civ-spouse</td>\n",
       "      <td>Handlers-cleaners</td>\n",
       "      <td>Husband</td>\n",
       "      <td>Black</td>\n",
       "      <td>Male</td>\n",
       "      <td>0</td>\n",
       "      <td>0</td>\n",
       "      <td>40</td>\n",
       "      <td>United-States</td>\n",
       "      <td>&lt;=50K</td>\n",
       "    </tr>\n",
       "    <tr>\n",
       "      <th>4</th>\n",
       "      <td>28</td>\n",
       "      <td>Private</td>\n",
       "      <td>338409</td>\n",
       "      <td>Bachelors</td>\n",
       "      <td>13</td>\n",
       "      <td>Married-civ-spouse</td>\n",
       "      <td>Prof-specialty</td>\n",
       "      <td>Wife</td>\n",
       "      <td>Black</td>\n",
       "      <td>Female</td>\n",
       "      <td>0</td>\n",
       "      <td>0</td>\n",
       "      <td>40</td>\n",
       "      <td>Cuba</td>\n",
       "      <td>&lt;=50K</td>\n",
       "    </tr>\n",
       "  </tbody>\n",
       "</table>\n",
       "</div>"
      ],
      "text/plain": [
       "   age         workclass  fnlwgt  education  education-num  \\\n",
       "0   39         State-gov   77516  Bachelors             13   \n",
       "1   50  Self-emp-not-inc   83311  Bachelors             13   \n",
       "2   38           Private  215646    HS-grad              9   \n",
       "3   53           Private  234721       11th              7   \n",
       "4   28           Private  338409  Bachelors             13   \n",
       "\n",
       "       marital-status         occupation   relationship   race     sex  \\\n",
       "0       Never-married       Adm-clerical  Not-in-family  White    Male   \n",
       "1  Married-civ-spouse    Exec-managerial        Husband  White    Male   \n",
       "2            Divorced  Handlers-cleaners  Not-in-family  White    Male   \n",
       "3  Married-civ-spouse  Handlers-cleaners        Husband  Black    Male   \n",
       "4  Married-civ-spouse     Prof-specialty           Wife  Black  Female   \n",
       "\n",
       "   capital-gain  capital-loss  hours-per-week native-country salary  \n",
       "0          2174             0              40  United-States  <=50K  \n",
       "1             0             0              13  United-States  <=50K  \n",
       "2             0             0              40  United-States  <=50K  \n",
       "3             0             0              40  United-States  <=50K  \n",
       "4             0             0              40           Cuba  <=50K  "
      ]
     },
     "execution_count": 2,
     "metadata": {},
     "output_type": "execute_result"
    }
   ],
   "source": [
    "data = pd.read_csv('../../data/adult.data.csv')\n",
    "data.head()"
   ]
  },
  {
   "cell_type": "markdown",
   "metadata": {},
   "source": [
    "**1. Сколько мужчин и женщин (признак *sex*) представлено в этом наборе данных?**"
   ]
  },
  {
   "cell_type": "code",
   "execution_count": 11,
   "metadata": {},
   "outputs": [
    {
     "data": {
      "text/plain": [
       "Male      21790\n",
       "Female    10771\n",
       "Name: sex, dtype: int64"
      ]
     },
     "execution_count": 11,
     "metadata": {},
     "output_type": "execute_result"
    }
   ],
   "source": [
    "# Ваш код здесь\n",
    "data['sex'].value_counts()"
   ]
  },
  {
   "cell_type": "markdown",
   "metadata": {},
   "source": [
    "**2. Каков средний возраст (признак *age*) женщин?**"
   ]
  },
  {
   "cell_type": "code",
   "execution_count": 31,
   "metadata": {},
   "outputs": [
    {
     "data": {
      "text/plain": [
       "36.85823043357163"
      ]
     },
     "execution_count": 31,
     "metadata": {},
     "output_type": "execute_result"
    }
   ],
   "source": [
    "# Ваш код здесь\n",
    "data[data['sex'] == 'Female']['age'].mean()"
   ]
  },
  {
   "cell_type": "markdown",
   "metadata": {},
   "source": [
    "**3. Какова доля граждан Германии (признак *native-country*)?**"
   ]
  },
  {
   "cell_type": "code",
   "execution_count": 15,
   "metadata": {},
   "outputs": [
    {
     "data": {
      "text/plain": [
       "0.004207487485028101"
      ]
     },
     "execution_count": 15,
     "metadata": {},
     "output_type": "execute_result"
    }
   ],
   "source": [
    "# Ваш код здесь\n",
    "len(data[data['native-country'] == 'Germany']) / len(data)"
   ]
  },
  {
   "cell_type": "markdown",
   "metadata": {},
   "source": [
    "**4-5. Каковы средние значения и среднеквадратичные отклонения возраста тех, кто получает более 50K в год (признак *salary*) и тех, кто получает менее 50K в год? **"
   ]
  },
  {
   "cell_type": "code",
   "execution_count": 34,
   "metadata": {},
   "outputs": [
    {
     "data": {
      "text/plain": [
       "(44.24984058155847, 10.51835692766163, 36.78373786407767, 15.88387923353948)"
      ]
     },
     "execution_count": 34,
     "metadata": {},
     "output_type": "execute_result"
    }
   ],
   "source": [
    "# Ваш код здесь\n",
    "import math\n",
    "data[data['salary'] == '>50K']['age'].mean(), \\\n",
    "math.sqrt((data[data['salary'] == '>50K']['age'] - data[data['salary'] == '>50K']['age'].mean()).pow(2).mean()), \\\n",
    "data[data['salary'] == '<=50K']['age'].mean(), \\\n",
    "math.sqrt((data[data['salary'] == '<=50K']['age'] - data[data['salary'] == '>50K']['age'].mean()).pow(2).mean()), \\"
   ]
  },
  {
   "cell_type": "markdown",
   "metadata": {},
   "source": [
    "**6. Правда ли, что люди, которые получают больше 50k, имеют как минимум высшее образование? (признак *education – Bachelors, Prof-school, Assoc-acdm, Assoc-voc, Masters* или *Doctorate*)**"
   ]
  },
  {
   "cell_type": "code",
   "execution_count": 35,
   "metadata": {},
   "outputs": [
    {
     "data": {
      "text/plain": [
       "Bachelors       2221\n",
       "HS-grad         1675\n",
       "Some-college    1387\n",
       "Masters          959\n",
       "Prof-school      423\n",
       "Assoc-voc        361\n",
       "Doctorate        306\n",
       "Assoc-acdm       265\n",
       "10th              62\n",
       "11th              60\n",
       "7th-8th           40\n",
       "12th              33\n",
       "9th               27\n",
       "5th-6th           16\n",
       "1st-4th            6\n",
       "Name: education, dtype: int64"
      ]
     },
     "execution_count": 35,
     "metadata": {},
     "output_type": "execute_result"
    }
   ],
   "source": [
    "# Ваш код здесь\n",
    "data[data['salary'] == '>50K']['education'].value_counts()"
   ]
  },
  {
   "cell_type": "markdown",
   "metadata": {},
   "source": [
    "**7. Выведите статистику возраста для каждой расы (признак *race*) и каждого пола. Используйте *groupby* и *describe*. Найдите таким образом максимальный возраст мужчин расы *Amer-Indian-Eskimo*.**"
   ]
  },
  {
   "cell_type": "code",
   "execution_count": 43,
   "metadata": {},
   "outputs": [
    {
     "name": "stdout",
     "output_type": "stream",
     "text": [
      "----------------------------('Amer-Indian-Eskimo', 'Female')-------------------------------\n",
      "              age         fnlwgt  education-num  capital-gain  capital-loss  \\\n",
      "count  119.000000     119.000000     119.000000    119.000000    119.000000   \n",
      "mean    37.117647  112950.731092       9.697479    544.605042     14.462185   \n",
      "std     13.114991   93207.974077       2.334540   2451.591587    157.763811   \n",
      "min     17.000000   12285.000000       2.000000      0.000000      0.000000   \n",
      "25%     27.000000   31387.000000       9.000000      0.000000      0.000000   \n",
      "50%     36.000000   87950.000000      10.000000      0.000000      0.000000   \n",
      "75%     46.000000  163027.500000      11.000000      0.000000      0.000000   \n",
      "max     80.000000  445168.000000      16.000000  15024.000000   1721.000000   \n",
      "\n",
      "       hours-per-week  \n",
      "count      119.000000  \n",
      "mean        36.579832  \n",
      "std         11.046509  \n",
      "min          4.000000  \n",
      "25%         35.000000  \n",
      "50%         40.000000  \n",
      "75%         40.000000  \n",
      "max         84.000000  \n",
      "----------------------------('Amer-Indian-Eskimo', 'Male')-------------------------------\n",
      "              age         fnlwgt  education-num  capital-gain  capital-loss  \\\n",
      "count  192.000000     192.000000     192.000000    192.000000    192.000000   \n",
      "mean    37.208333  125715.364583       9.072917    675.260417     46.395833   \n",
      "std     12.049563   85063.251595       2.268587   2929.745443    286.562584   \n",
      "min     17.000000   13769.000000       2.000000      0.000000      0.000000   \n",
      "25%     28.000000   48197.750000       9.000000      0.000000      0.000000   \n",
      "50%     35.000000  113091.000000       9.000000      0.000000      0.000000   \n",
      "75%     45.000000  182656.000000      10.000000      0.000000      0.000000   \n",
      "max     82.000000  356015.000000      16.000000  27828.000000   1980.000000   \n",
      "\n",
      "       hours-per-week  \n",
      "count      192.000000  \n",
      "mean        42.197917  \n",
      "std         11.596280  \n",
      "min          3.000000  \n",
      "25%         40.000000  \n",
      "50%         40.000000  \n",
      "75%         45.000000  \n",
      "max         84.000000  \n",
      "----------------------------('Asian-Pac-Islander', 'Female')-------------------------------\n",
      "              age         fnlwgt  education-num  capital-gain  capital-loss  \\\n",
      "count  346.000000     346.000000     346.000000    346.000000    346.000000   \n",
      "mean    35.089595  147452.075145      10.390173    778.436416     50.852601   \n",
      "std     12.300845   76401.627757       2.796647   7675.228631    296.529225   \n",
      "min     17.000000   19914.000000       1.000000      0.000000      0.000000   \n",
      "25%     25.000000   86879.250000       9.000000      0.000000      0.000000   \n",
      "50%     33.000000  131986.000000      10.000000      0.000000      0.000000   \n",
      "75%     43.750000  175705.750000      13.000000      0.000000      0.000000   \n",
      "max     75.000000  379046.000000      15.000000  99999.000000   2258.000000   \n",
      "\n",
      "       hours-per-week  \n",
      "count      346.000000  \n",
      "mean        37.439306  \n",
      "std         12.479459  \n",
      "min          1.000000  \n",
      "25%         35.000000  \n",
      "50%         40.000000  \n",
      "75%         40.000000  \n",
      "max         99.000000  \n",
      "----------------------------('Asian-Pac-Islander', 'Male')-------------------------------\n",
      "              age         fnlwgt  education-num  capital-gain  capital-loss  \\\n",
      "count  693.000000     693.000000     693.000000    693.000000    693.000000   \n",
      "mean    39.073593  166175.865801      11.245310   1827.813853    120.373737   \n",
      "std     12.883944   88552.952600       2.777463  10947.525528    472.917697   \n",
      "min     18.000000   14878.000000       1.000000      0.000000      0.000000   \n",
      "25%     29.000000   98350.000000       9.000000      0.000000      0.000000   \n",
      "50%     37.000000  147719.000000      11.000000      0.000000      0.000000   \n",
      "75%     46.000000  200117.000000      13.000000      0.000000      0.000000   \n",
      "max     90.000000  506329.000000      16.000000  99999.000000   2457.000000   \n",
      "\n",
      "       hours-per-week  \n",
      "count      693.000000  \n",
      "mean        41.468975  \n",
      "std         12.387563  \n",
      "min          1.000000  \n",
      "25%         40.000000  \n",
      "50%         40.000000  \n",
      "75%         45.000000  \n",
      "max         99.000000  \n",
      "----------------------------('Black', 'Female')-------------------------------\n",
      "               age         fnlwgt  education-num  capital-gain  capital-loss  \\\n",
      "count  1555.000000    1555.000000    1555.000000   1555.000000   1555.000000   \n",
      "mean     37.854019  212971.387781       9.549839    516.593569     45.450804   \n",
      "std      12.637197  109971.263983       2.207815   5312.749129    299.099591   \n",
      "min      17.000000   19752.000000       1.000000      0.000000      0.000000   \n",
      "25%      28.000000  142666.500000       9.000000      0.000000      0.000000   \n",
      "50%      37.000000  193553.000000       9.000000      0.000000      0.000000   \n",
      "75%      46.000000  253759.000000      10.000000      0.000000      0.000000   \n",
      "max      90.000000  930948.000000      16.000000  99999.000000   4356.000000   \n",
      "\n",
      "       hours-per-week  \n",
      "count     1555.000000  \n",
      "mean        36.834084  \n",
      "std          9.419960  \n",
      "min          2.000000  \n",
      "25%         35.000000  \n",
      "50%         40.000000  \n",
      "75%         40.000000  \n",
      "max         99.000000  \n",
      "----------------------------('Black', 'Male')-------------------------------\n",
      "               age        fnlwgt  education-num  capital-gain  capital-loss  \\\n",
      "count  1569.000000  1.569000e+03    1569.000000   1569.000000   1569.000000   \n",
      "mean     37.682600  2.429206e+05       9.423199    702.454430     75.186106   \n",
      "std      12.882612  1.341460e+05       2.382841   4962.113183    370.976546   \n",
      "min      17.000000  2.185600e+04       1.000000      0.000000      0.000000   \n",
      "25%      27.000000  1.564100e+05       9.000000      0.000000      0.000000   \n",
      "50%      36.000000  2.211960e+05       9.000000      0.000000      0.000000   \n",
      "75%      46.000000  2.986010e+05      10.000000      0.000000      0.000000   \n",
      "max      90.000000  1.268339e+06      16.000000  99999.000000   2824.000000   \n",
      "\n",
      "       hours-per-week  \n",
      "count     1569.000000  \n",
      "mean        39.997451  \n",
      "std         10.909413  \n",
      "min          1.000000  \n",
      "25%         40.000000  \n",
      "50%         40.000000  \n",
      "75%         40.000000  \n",
      "max         99.000000  \n",
      "----------------------------('Other', 'Female')-------------------------------\n",
      "              age         fnlwgt  education-num  capital-gain  capital-loss  \\\n",
      "count  109.000000     109.000000     109.000000    109.000000    109.000000   \n",
      "mean    31.678899  172519.642202       8.899083    254.669725     36.284404   \n",
      "std     11.631599   77766.666801       3.027482   1317.326460    231.796929   \n",
      "min     17.000000   24562.000000       2.000000      0.000000      0.000000   \n",
      "25%     23.000000  119890.000000       7.000000      0.000000      0.000000   \n",
      "50%     29.000000  171199.000000       9.000000      0.000000      0.000000   \n",
      "75%     39.000000  219441.000000      10.000000      0.000000      0.000000   \n",
      "max     74.000000  388741.000000      14.000000   7688.000000   1740.000000   \n",
      "\n",
      "       hours-per-week  \n",
      "count      109.000000  \n",
      "mean        35.926606  \n",
      "std         10.300761  \n",
      "min          6.000000  \n",
      "25%         30.000000  \n",
      "50%         40.000000  \n",
      "75%         40.000000  \n",
      "max         65.000000  \n",
      "----------------------------('Other', 'Male')-------------------------------\n",
      "              age         fnlwgt  education-num  capital-gain  capital-loss  \\\n",
      "count  162.000000     162.000000     162.000000    162.000000    162.000000   \n",
      "mean    34.654321  213679.104938       8.802469   1392.185185     77.746914   \n",
      "std     11.355531   92187.362738       3.361897  11093.711595    370.986720   \n",
      "min     17.000000   25610.000000       1.000000      0.000000      0.000000   \n",
      "25%     26.000000  150726.750000       8.000000      0.000000      0.000000   \n",
      "50%     32.000000  208516.500000       9.000000      0.000000      0.000000   \n",
      "75%     42.000000  253334.750000      10.000000      0.000000      0.000000   \n",
      "max     77.000000  481175.000000      16.000000  99999.000000   2179.000000   \n",
      "\n",
      "       hours-per-week  \n",
      "count      162.000000  \n",
      "mean        41.851852  \n",
      "std         11.084779  \n",
      "min          5.000000  \n",
      "25%         40.000000  \n",
      "50%         40.000000  \n",
      "75%         40.000000  \n",
      "max         98.000000  \n",
      "----------------------------('White', 'Female')-------------------------------\n",
      "               age        fnlwgt  education-num  capital-gain  capital-loss  \\\n",
      "count  8642.000000  8.642000e+03    8642.000000   8642.000000   8642.000000   \n",
      "mean     36.811618  1.835500e+05      10.127980    573.610391     65.390535   \n",
      "std      14.329093  1.017103e+05       2.368115   4763.131649    352.330817   \n",
      "min      17.000000  1.939500e+04       1.000000      0.000000      0.000000   \n",
      "25%      25.000000  1.159148e+05       9.000000      0.000000      0.000000   \n",
      "50%      35.000000  1.758105e+05      10.000000      0.000000      0.000000   \n",
      "75%      46.000000  2.248365e+05      12.000000      0.000000      0.000000   \n",
      "max      90.000000  1.484705e+06      16.000000  99999.000000   4356.000000   \n",
      "\n",
      "       hours-per-week  \n",
      "count     8642.000000  \n",
      "mean        36.296691  \n",
      "std         12.190951  \n",
      "min          1.000000  \n",
      "25%         30.000000  \n",
      "50%         40.000000  \n",
      "75%         40.000000  \n",
      "max         99.000000  \n",
      "----------------------------('White', 'Male')-------------------------------\n"
     ]
    },
    {
     "name": "stdout",
     "output_type": "stream",
     "text": [
      "                age        fnlwgt  education-num  capital-gain  capital-loss  \\\n",
      "count  19174.000000  1.917400e+04   19174.000000  19174.000000  19174.000000   \n",
      "mean      39.652498  1.889874e+05      10.138521   1368.674455    102.261343   \n",
      "std       13.436029  1.037146e+05       2.656464   8442.830669    434.156936   \n",
      "min       17.000000  1.882700e+04       1.000000      0.000000      0.000000   \n",
      "25%       29.000000  1.173810e+05       9.000000      0.000000      0.000000   \n",
      "50%       38.000000  1.786625e+05      10.000000      0.000000      0.000000   \n",
      "75%       49.000000  2.368588e+05      13.000000      0.000000      0.000000   \n",
      "max       90.000000  1.455435e+06      16.000000  99999.000000   3770.000000   \n",
      "\n",
      "       hours-per-week  \n",
      "count    19174.000000  \n",
      "mean        42.668822  \n",
      "std         12.194633  \n",
      "min          1.000000  \n",
      "25%         40.000000  \n",
      "50%         40.000000  \n",
      "75%         50.000000  \n",
      "max         99.000000  \n"
     ]
    }
   ],
   "source": [
    "# Ваш код здесь\n",
    "for name, group in data.groupby(['race', 'sex']):\n",
    "    print('----------------------------' + str(name) + '-------------------------------')\n",
    "    print(group.describe())"
   ]
  },
  {
   "cell_type": "markdown",
   "metadata": {},
   "source": [
    "**8. Среди кого больше доля зарабатывающих много (>50K): среди женатых или холостых мужчин (признак *marital-status*)? Женатыми считаем тех, у кого *marital-status* начинается с *Married* (Married-civ-spouse, Married-spouse-absent или Married-AF-spouse), остальных считаем холостыми.**"
   ]
  },
  {
   "cell_type": "code",
   "execution_count": 48,
   "metadata": {},
   "outputs": [
    {
     "data": {
      "text/plain": [
       "Married-civ-spouse       5938\n",
       "Never-married             325\n",
       "Divorced                  284\n",
       "Separated                  49\n",
       "Widowed                    39\n",
       "Married-spouse-absent      23\n",
       "Married-AF-spouse           4\n",
       "Name: marital-status, dtype: int64"
      ]
     },
     "execution_count": 48,
     "metadata": {},
     "output_type": "execute_result"
    }
   ],
   "source": [
    "# Ваш код здесь\n",
    "data[(data['salary'] == '>50K') & (data['sex'] == 'Male')]['marital-status'].value_counts()"
   ]
  },
  {
   "cell_type": "markdown",
   "metadata": {},
   "source": [
    "**9. Какое максимальное число часов человек работает в неделю (признак *hours-per-week*)? Сколько людей работают такое количество часов и каков среди них процент зарабатывающих много?**"
   ]
  },
  {
   "cell_type": "code",
   "execution_count": 58,
   "metadata": {},
   "outputs": [
    {
     "data": {
      "text/plain": [
       "(99, 85, 0.29411764705882354)"
      ]
     },
     "execution_count": 58,
     "metadata": {},
     "output_type": "execute_result"
    }
   ],
   "source": [
    "# Ваш код здесь\n",
    "data['hours-per-week'].max(), \\\n",
    "len(data[data['hours-per-week'] == data['hours-per-week'].max()]), \\\n",
    "len(data[(data['hours-per-week'] == data['hours-per-week'].max()) & (data['salary'] == '>50K')]) / len(data[data['hours-per-week'] == data['hours-per-week'].max()])"
   ]
  },
  {
   "cell_type": "markdown",
   "metadata": {},
   "source": [
    "**10. Посчитайте среднее время работы (*hours-per-week*) зарабатывающих мало и много (*salary*) для каждой страны (*native-country*).**"
   ]
  },
  {
   "cell_type": "code",
   "execution_count": 61,
   "metadata": {},
   "outputs": [
    {
     "name": "stdout",
     "output_type": "stream",
     "text": [
      "----------------------------('<=50K', 'Japan')-------------------------------\n",
      "             age         fnlwgt  education-num  capital-gain  capital-loss  \\\n",
      "count  38.000000      38.000000      38.000000     38.000000     38.000000   \n",
      "mean   35.315789  197242.526316      10.710526    201.473684     41.842105   \n",
      "std     9.392652  110715.684538       1.844025    702.340248    257.932060   \n",
      "min    19.000000   29807.000000       9.000000      0.000000      0.000000   \n",
      "25%    29.000000  136372.250000       9.000000      0.000000      0.000000   \n",
      "50%    34.000000  167426.000000      10.000000      0.000000      0.000000   \n",
      "75%    41.000000  249460.000000      13.000000      0.000000      0.000000   \n",
      "max    61.000000  536725.000000      14.000000   2885.000000   1590.000000   \n",
      "\n",
      "       hours-per-week  \n",
      "count       38.000000  \n",
      "mean        41.000000  \n",
      "std         11.902759  \n",
      "min         10.000000  \n",
      "25%         40.000000  \n",
      "50%         40.000000  \n",
      "75%         41.500000  \n",
      "max         65.000000  \n",
      "----------------------------('>50K', 'Japan')-------------------------------\n",
      "             age         fnlwgt  education-num  capital-gain  capital-loss  \\\n",
      "count  24.000000      24.000000      24.000000     24.000000     24.000000   \n",
      "mean   42.875000  167433.708333      12.583333   6258.750000     82.375000   \n",
      "std     6.771504  131000.388697       2.357535  20485.668768    403.553435   \n",
      "min    33.000000   22201.000000       6.000000      0.000000      0.000000   \n",
      "25%    37.750000   81099.750000      12.750000      0.000000      0.000000   \n",
      "50%    41.000000  124334.000000      13.000000      0.000000      0.000000   \n",
      "75%    47.250000  195285.000000      14.000000   1196.750000      0.000000   \n",
      "max    56.000000  586657.000000      16.000000  99999.000000   1977.000000   \n",
      "\n",
      "       hours-per-week  \n",
      "count       24.000000  \n",
      "mean        47.958333  \n",
      "std         16.120414  \n",
      "min         21.000000  \n",
      "25%         40.000000  \n",
      "50%         42.500000  \n",
      "75%         50.000000  \n",
      "max         99.000000  \n"
     ]
    }
   ],
   "source": [
    "# Ваш код здесь\n",
    "for name, group in data[data['native-country'] == 'Japan'].groupby(['salary', 'native-country']):\n",
    "    print('----------------------------' + str(name) + '-------------------------------')\n",
    "    print(group.describe())"
   ]
  }
 ],
 "metadata": {
  "anaconda-cloud": {},
  "kernelspec": {
   "display_name": "Python 3",
   "language": "python",
   "name": "python3"
  },
  "language_info": {
   "codemirror_mode": {
    "name": "ipython",
    "version": 3
   },
   "file_extension": ".py",
   "mimetype": "text/x-python",
   "name": "python",
   "nbconvert_exporter": "python",
   "pygments_lexer": "ipython3",
   "version": "3.7.3"
  }
 },
 "nbformat": 4,
 "nbformat_minor": 1
}
